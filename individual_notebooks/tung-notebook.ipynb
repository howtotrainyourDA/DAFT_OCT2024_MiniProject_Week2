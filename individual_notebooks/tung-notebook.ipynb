{
 "cells": [
  {
   "cell_type": "code",
   "execution_count": null,
   "id": "dc2b4f78-a79d-4ce8-baf2-95aa2a7261e8",
   "metadata": {},
   "outputs": [],
   "source": [
    "import pandas as pd\n",
    "import numpy as np\n",
    "\n",
    "shark_df = pd.read_excel('../shark-dataset.xls')\n",
    "# create dataframe copy\n",
    "original_df = shark_df.copy()\n",
    "shark_df"
   ]
  },
  {
   "cell_type": "code",
   "execution_count": null,
   "id": "891224b7-1ee1-41c5-8558-1b9319aaca1e",
   "metadata": {},
   "outputs": [],
   "source": [
    "# column names to lowercase, remove empty space in the end, replace empty spaces with underscore\n",
    "shark_df.columns = shark_df.columns.str.lower().str.strip().str.replace(\" \", \"_\")\n",
    "\n",
    "# remove multiple columns:\n",
    "shark_df = shark_df.drop(['type', 'state', 'name', 'species', 'source', 'pdf', 'href_formula', 'href', 'case_number', 'case_number.1', 'original_order', 'unnamed:_21', 'unnamed:_22', 'time'], axis=1)\n",
    "\n",
    "# convert year values to int\n",
    "# shark_df['year'] = shark_df['year'].apply(lambda x: int(x) if isinstance(x, float) else x)\n",
    "shark_df"
   ]
  },
  {
   "cell_type": "code",
   "execution_count": null,
   "id": "e62b8ccd-ce41-42fc-befa-bda44f27e847",
   "metadata": {},
   "outputs": [],
   "source": [
    "# reduce range rows for better valid inputs\n",
    "\n",
    "start_year = 2014\n",
    "end_year = 2024\n",
    "\n",
    "shark_df = shark_df[(shark_df[\"year\"] >= start_year) & (shark_df[\"year\"] <= end_year)]\n",
    "\n",
    "#convert float in year to int\n",
    "shark_df[\"year\"] = shark_df[\"year\"].fillna(0).astype(int)\n",
    "\n",
    "# remove invalid rows with \"2014\" as date\n",
    "shark_df = shark_df.drop(shark_df.index[-2:])\n",
    "\n",
    "\n",
    "total_count_spring = 298\n",
    "total_count_summer = 405\n",
    "total_count_autumn = 290\n",
    "totao_count_winter = 231\n",
    "\n",
    "shark_df"
   ]
  },
  {
   "cell_type": "markdown",
   "id": "098dbd26-5c7e-4eb4-81ed-452f7a78d1ed",
   "metadata": {},
   "source": [
    "# "
   ]
  }
 ],
 "metadata": {
  "kernelspec": {
   "display_name": "Python 3 (ipykernel)",
   "language": "python",
   "name": "python3"
  },
  "language_info": {
   "codemirror_mode": {
    "name": "ipython",
    "version": 3
   },
   "file_extension": ".py",
   "mimetype": "text/x-python",
   "name": "python",
   "nbconvert_exporter": "python",
   "pygments_lexer": "ipython3",
   "version": "3.12.2"
  }
 },
 "nbformat": 4,
 "nbformat_minor": 5
}
