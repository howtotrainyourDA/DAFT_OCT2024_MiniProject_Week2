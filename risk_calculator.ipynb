{
 "cells": [
  {
   "cell_type": "code",
   "execution_count": 2,
   "id": "7046b2cf-8858-4694-a7ef-74556fa4c944",
   "metadata": {},
   "outputs": [
    {
     "name": "stdin",
     "output_type": "stream",
     "text": [
      "Enter age:  28\n",
      "Enter sex (Male/Female):  Male\n",
      "Enter destination country:  Bahamas\n",
      "Enter activity:  Diving\n"
     ]
    },
    {
     "name": "stdout",
     "output_type": "stream",
     "text": [
      "The risk category for this customer is: High Risk\n"
     ]
    }
   ],
   "source": [
    "high_risk_countries = ['USA' 'Australia', 'South Africa']\n",
    "medium_risk_countries = ['New Zealand', 'Papua New Guinea', 'Bahamas', 'Brazil', 'Mexico', 'Italy', 'Fiji', 'New Caledonia', 'Philippnes']\n",
    "low_risk_countries = ['Reunion', 'Cuba', 'Egypt', 'Mozambique', 'Spain', 'India', 'French Polynesia', 'Japan']\n",
    "\n",
    "high_risk_activities = ['Surfing', 'Fishing', 'Swimming']\n",
    "medium_risk_activities = ['Diving', 'Kayaking', 'Wading']\n",
    "low_risk_activities = ['Bathing', 'Snorkeling', 'Standing', 'Body boarding']\n",
    "\n",
    "def assess_risk(age, sex, country, activity):\n",
    "    risk_score = 0\n",
    "    \n",
    "    # Age-based risk assessment\n",
    "    if 10 <= age <= 30:\n",
    "        risk_score += 2  # High risk\n",
    "    elif 31 <= age <= 60:\n",
    "        risk_score += 1  # Medium risk\n",
    "    else:\n",
    "        risk_score += 0  # Low risk\n",
    "    \n",
    "    # Gender-based risk assessment\n",
    "    if sex.lower() == 'male':\n",
    "        risk_score += 1  \n",
    "    \n",
    "    # Location-based risk assessment\n",
    "    if country in high_risk_countries:\n",
    "        risk_score += 3\n",
    "    elif country in medium_risk_countries:\n",
    "        risk_score += 2\n",
    "    else:\n",
    "        risk_score += 1  # Low risk for all other countries\n",
    "    \n",
    "    # Activity-based risk assessment\n",
    "    if activity in high_risk_activities:\n",
    "        risk_score += 3\n",
    "    elif activity in medium_risk_activities:\n",
    "        risk_score += 2\n",
    "    else:\n",
    "        risk_score += 1  # Low risk for all other activities\n",
    "    \n",
    "    # Determine risk category based on total score\n",
    "    if risk_score >= 7:\n",
    "        return 'High Risk'\n",
    "    elif 4 <= risk_score < 7:\n",
    "        return 'Medium Risk'\n",
    "    else:\n",
    "        return 'Low Risk'\n",
    "\n",
    "# Example customer input\n",
    "customer_age = int(input(\"Enter age: \"))\n",
    "customer_sex = input(\"Enter sex (Male/Female): \")\n",
    "customer_country = input(\"Enter destination country: \")\n",
    "customer_activity = input(\"Enter activity: \")\n",
    "\n",
    "# Calculate risk category\n",
    "risk_category = assess_risk(customer_age, customer_sex, customer_country, customer_activity)\n",
    "print(f\"The risk category for this customer is: {risk_category}\")"
   ]
  },
  {
   "cell_type": "code",
   "execution_count": null,
   "id": "5df26eec-bcbd-4034-963c-f704d128ab19",
   "metadata": {},
   "outputs": [],
   "source": []
  }
 ],
 "metadata": {
  "kernelspec": {
   "display_name": "Python 3 (ipykernel)",
   "language": "python",
   "name": "python3"
  },
  "language_info": {
   "codemirror_mode": {
    "name": "ipython",
    "version": 3
   },
   "file_extension": ".py",
   "mimetype": "text/x-python",
   "name": "python",
   "nbconvert_exporter": "python",
   "pygments_lexer": "ipython3",
   "version": "3.12.4"
  }
 },
 "nbformat": 4,
 "nbformat_minor": 5
}
